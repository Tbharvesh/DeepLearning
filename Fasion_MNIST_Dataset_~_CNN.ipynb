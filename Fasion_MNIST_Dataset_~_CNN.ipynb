{
  "nbformat": 4,
  "nbformat_minor": 0,
  "metadata": {
    "colab": {
      "provenance": [],
      "include_colab_link": true
    },
    "kernelspec": {
      "name": "python3",
      "display_name": "Python 3"
    },
    "language_info": {
      "name": "python"
    }
  },
  "cells": [
    {
      "cell_type": "markdown",
      "metadata": {
        "id": "view-in-github",
        "colab_type": "text"
      },
      "source": [
        "<a href=\"https://colab.research.google.com/github/Tbharvesh/DeepLearning/blob/main/Fasion_MNIST_Dataset_~_CNN.ipynb\" target=\"_parent\"><img src=\"https://colab.research.google.com/assets/colab-badge.svg\" alt=\"Open In Colab\"/></a>"
      ]
    },
    {
      "cell_type": "code",
      "execution_count": null,
      "metadata": {
        "id": "z5c8rJodn66I"
      },
      "outputs": [],
      "source": [
        "import tensorflow as tf\n",
        "import os\n",
        "import pandas as pd\n",
        "import numpy as np\n",
        "import matplotlib.pyplot as plt"
      ]
    },
    {
      "cell_type": "code",
      "source": [
        "data=tf.keras.datasets.fashion_mnist\n",
        "data"
      ],
      "metadata": {
        "colab": {
          "base_uri": "https://localhost:8080/"
        },
        "id": "zEMUiV1DoDfQ",
        "outputId": "a223ab3b-d736-4ba2-9647-bf817db689a2"
      },
      "execution_count": null,
      "outputs": [
        {
          "output_type": "execute_result",
          "data": {
            "text/plain": [
              "<module 'keras.api._v2.keras.datasets.fashion_mnist' from '/usr/local/lib/python3.10/dist-packages/keras/api/_v2/keras/datasets/fashion_mnist/__init__.py'>"
            ]
          },
          "metadata": {},
          "execution_count": 5
        }
      ]
    },
    {
      "cell_type": "markdown",
      "source": [
        "## Loading the MNIST dataset"
      ],
      "metadata": {
        "id": "O09xfz-poooL"
      }
    },
    {
      "cell_type": "code",
      "source": [
        "(train_images,train_labels),(test_images,test_labels)=data.load_data()  #X_train,y_train   X_test , y_test"
      ],
      "metadata": {
        "id": "QWVf6N0voO99"
      },
      "execution_count": null,
      "outputs": []
    },
    {
      "cell_type": "code",
      "source": [
        "train_images[0]\n",
        "print(type(train_images))\n",
        "train_images.shape\n",
        "test_images.shape"
      ],
      "metadata": {
        "colab": {
          "base_uri": "https://localhost:8080/"
        },
        "id": "7kNShhzGoPnc",
        "outputId": "2d0b3644-3262-4bea-9498-e5ba38b3ef5d"
      },
      "execution_count": null,
      "outputs": [
        {
          "output_type": "stream",
          "name": "stdout",
          "text": [
            "<class 'numpy.ndarray'>\n"
          ]
        },
        {
          "output_type": "execute_result",
          "data": {
            "text/plain": [
              "(10000, 28, 28)"
            ]
          },
          "metadata": {},
          "execution_count": 18
        }
      ]
    },
    {
      "cell_type": "markdown",
      "source": [
        "## Data Preprocessing"
      ],
      "metadata": {
        "id": "11jKDNT6Ff6k"
      }
    },
    {
      "cell_type": "code",
      "source": [
        "test_images=test_images.reshape(10000,784)\n",
        "train_images=train_images.reshape(60000,784)\n",
        "\n",
        "train_images = train_images/255.0\n",
        "test_images =test_images/255.0\n",
        "\n",
        "test_images = test_images.astype('float32')\n",
        "train_images = train_images.astype('float32')\n",
        "\n",
        "# One hot encoding --labels\n",
        "train_labels = tf.keras.utils.to_categorical(train_labels,10)\n",
        "test_labels = tf.keras.utils.to_categorical(test_labels,10)  # converts 10 classes into arrays of 0 and 1\n",
        "\n",
        "\n",
        "print(test_images.shape,\"test samples\")\n",
        "print(train_images.shape,\"train samples\")\n",
        "print(\"Y_train(train_labels) : \",train_labels)\n",
        "print(\"Y_test(test_labels) : \",test_labels)"
      ],
      "metadata": {
        "colab": {
          "base_uri": "https://localhost:8080/"
        },
        "id": "icG2xy5cqBfd",
        "outputId": "74bdf379-258e-4ed1-d26c-12d2c9b1f778"
      },
      "execution_count": null,
      "outputs": [
        {
          "output_type": "stream",
          "name": "stdout",
          "text": [
            "(10000, 784) test samples\n",
            "(60000, 784) train samples\n",
            "Y_train(train_labels) :  [[0. 0. 0. ... 0. 0. 1.]\n",
            " [1. 0. 0. ... 0. 0. 0.]\n",
            " [1. 0. 0. ... 0. 0. 0.]\n",
            " ...\n",
            " [0. 0. 0. ... 0. 0. 0.]\n",
            " [1. 0. 0. ... 0. 0. 0.]\n",
            " [0. 0. 0. ... 0. 0. 0.]]\n",
            "Y_test(test_labels) :  [[0. 0. 0. ... 0. 0. 1.]\n",
            " [0. 0. 1. ... 0. 0. 0.]\n",
            " [0. 1. 0. ... 0. 0. 0.]\n",
            " ...\n",
            " [0. 0. 0. ... 0. 1. 0.]\n",
            " [0. 1. 0. ... 0. 0. 0.]\n",
            " [0. 0. 0. ... 0. 0. 0.]]\n"
          ]
        }
      ]
    },
    {
      "cell_type": "code",
      "source": [
        "from tensorflow.keras.layers import Dense\n",
        "from tensorflow.keras import Sequential\n",
        "\n",
        "model0 =Sequential()\n",
        "model0.add(Dense(10,input_shape=(784,),name='dense_layer',activation='softmax'))"
      ],
      "metadata": {
        "id": "_YENltAbDYDf"
      },
      "execution_count": null,
      "outputs": []
    },
    {
      "cell_type": "code",
      "source": [
        "# Compiling model\n",
        "model0.compile(optimizer='SGD',\n",
        "               loss='categorical_crossentropy',\n",
        "               metrics=['accuracy']\n",
        ")"
      ],
      "metadata": {
        "id": "OEGuO66JGLtM"
      },
      "execution_count": null,
      "outputs": []
    },
    {
      "cell_type": "code",
      "source": [
        "training=model0.fit(train_images,train_labels,batch_size=64,epochs=70,validation_split=0.2)"
      ],
      "metadata": {
        "colab": {
          "base_uri": "https://localhost:8080/"
        },
        "id": "jHB026M0Gbek",
        "outputId": "3f1b8454-04ec-4527-da66-992bdbca45e5"
      },
      "execution_count": null,
      "outputs": [
        {
          "output_type": "stream",
          "name": "stdout",
          "text": [
            "Epoch 1/70\n",
            "750/750 [==============================] - 3s 3ms/step - loss: 0.5852 - accuracy: 0.8015 - val_loss: 0.5825 - val_accuracy: 0.7989\n",
            "Epoch 2/70\n",
            "750/750 [==============================] - 2s 3ms/step - loss: 0.5852 - accuracy: 0.8015 - val_loss: 0.5825 - val_accuracy: 0.7987\n",
            "Epoch 3/70\n",
            "750/750 [==============================] - 3s 4ms/step - loss: 0.5852 - accuracy: 0.8015 - val_loss: 0.5825 - val_accuracy: 0.7988\n",
            "Epoch 4/70\n",
            "750/750 [==============================] - 3s 4ms/step - loss: 0.5852 - accuracy: 0.8015 - val_loss: 0.5825 - val_accuracy: 0.7987\n",
            "Epoch 5/70\n",
            "750/750 [==============================] - 2s 3ms/step - loss: 0.5852 - accuracy: 0.8014 - val_loss: 0.5825 - val_accuracy: 0.7987\n",
            "Epoch 6/70\n",
            "750/750 [==============================] - 2s 3ms/step - loss: 0.5852 - accuracy: 0.8015 - val_loss: 0.5825 - val_accuracy: 0.7986\n",
            "Epoch 7/70\n",
            "750/750 [==============================] - 2s 3ms/step - loss: 0.5852 - accuracy: 0.8014 - val_loss: 0.5825 - val_accuracy: 0.7987\n",
            "Epoch 8/70\n",
            "750/750 [==============================] - 2s 3ms/step - loss: 0.5852 - accuracy: 0.8014 - val_loss: 0.5825 - val_accuracy: 0.7987\n",
            "Epoch 9/70\n",
            "750/750 [==============================] - 3s 4ms/step - loss: 0.5852 - accuracy: 0.8014 - val_loss: 0.5825 - val_accuracy: 0.7986\n",
            "Epoch 10/70\n",
            "750/750 [==============================] - 2s 3ms/step - loss: 0.5852 - accuracy: 0.8014 - val_loss: 0.5825 - val_accuracy: 0.7987\n",
            "Epoch 11/70\n",
            "750/750 [==============================] - 2s 3ms/step - loss: 0.5852 - accuracy: 0.8014 - val_loss: 0.5825 - val_accuracy: 0.7987\n",
            "Epoch 12/70\n",
            "750/750 [==============================] - 2s 3ms/step - loss: 0.5852 - accuracy: 0.8014 - val_loss: 0.5825 - val_accuracy: 0.7987\n",
            "Epoch 13/70\n",
            "750/750 [==============================] - 2s 3ms/step - loss: 0.5852 - accuracy: 0.8014 - val_loss: 0.5825 - val_accuracy: 0.7988\n",
            "Epoch 14/70\n",
            "750/750 [==============================] - 2s 3ms/step - loss: 0.5852 - accuracy: 0.8012 - val_loss: 0.5825 - val_accuracy: 0.7988\n",
            "Epoch 15/70\n",
            "750/750 [==============================] - 3s 4ms/step - loss: 0.5852 - accuracy: 0.8014 - val_loss: 0.5825 - val_accuracy: 0.7987\n",
            "Epoch 16/70\n",
            "750/750 [==============================] - 2s 3ms/step - loss: 0.5852 - accuracy: 0.8013 - val_loss: 0.5825 - val_accuracy: 0.7987\n",
            "Epoch 17/70\n",
            "750/750 [==============================] - 2s 2ms/step - loss: 0.5852 - accuracy: 0.8014 - val_loss: 0.5825 - val_accuracy: 0.7987\n",
            "Epoch 18/70\n",
            "750/750 [==============================] - 2s 3ms/step - loss: 0.5852 - accuracy: 0.8015 - val_loss: 0.5825 - val_accuracy: 0.7988\n",
            "Epoch 19/70\n",
            "750/750 [==============================] - 2s 3ms/step - loss: 0.5852 - accuracy: 0.8013 - val_loss: 0.5825 - val_accuracy: 0.7986\n",
            "Epoch 20/70\n",
            "750/750 [==============================] - 2s 3ms/step - loss: 0.5852 - accuracy: 0.8013 - val_loss: 0.5825 - val_accuracy: 0.7986\n",
            "Epoch 21/70\n",
            "750/750 [==============================] - 3s 4ms/step - loss: 0.5852 - accuracy: 0.8014 - val_loss: 0.5825 - val_accuracy: 0.7987\n",
            "Epoch 22/70\n",
            "750/750 [==============================] - 2s 3ms/step - loss: 0.5852 - accuracy: 0.8014 - val_loss: 0.5825 - val_accuracy: 0.7987\n",
            "Epoch 23/70\n",
            "750/750 [==============================] - 2s 3ms/step - loss: 0.5852 - accuracy: 0.8012 - val_loss: 0.5825 - val_accuracy: 0.7987\n",
            "Epoch 24/70\n",
            "750/750 [==============================] - 2s 3ms/step - loss: 0.5852 - accuracy: 0.8013 - val_loss: 0.5825 - val_accuracy: 0.7987\n",
            "Epoch 25/70\n",
            "750/750 [==============================] - 2s 3ms/step - loss: 0.5852 - accuracy: 0.8013 - val_loss: 0.5825 - val_accuracy: 0.7986\n",
            "Epoch 26/70\n",
            "750/750 [==============================] - 2s 3ms/step - loss: 0.5852 - accuracy: 0.8016 - val_loss: 0.5825 - val_accuracy: 0.7986\n",
            "Epoch 27/70\n",
            "750/750 [==============================] - 3s 3ms/step - loss: 0.5852 - accuracy: 0.8014 - val_loss: 0.5825 - val_accuracy: 0.7987\n",
            "Epoch 28/70\n",
            "750/750 [==============================] - 2s 3ms/step - loss: 0.5852 - accuracy: 0.8014 - val_loss: 0.5825 - val_accuracy: 0.7984\n",
            "Epoch 29/70\n",
            "750/750 [==============================] - 2s 3ms/step - loss: 0.5852 - accuracy: 0.8015 - val_loss: 0.5825 - val_accuracy: 0.7987\n",
            "Epoch 30/70\n",
            "750/750 [==============================] - 2s 3ms/step - loss: 0.5852 - accuracy: 0.8014 - val_loss: 0.5825 - val_accuracy: 0.7986\n",
            "Epoch 31/70\n",
            "750/750 [==============================] - 2s 3ms/step - loss: 0.5852 - accuracy: 0.8013 - val_loss: 0.5825 - val_accuracy: 0.7987\n",
            "Epoch 32/70\n",
            "750/750 [==============================] - 3s 3ms/step - loss: 0.5852 - accuracy: 0.8015 - val_loss: 0.5825 - val_accuracy: 0.7987\n",
            "Epoch 33/70\n",
            "750/750 [==============================] - 2s 3ms/step - loss: 0.5852 - accuracy: 0.8014 - val_loss: 0.5825 - val_accuracy: 0.7987\n",
            "Epoch 34/70\n",
            "750/750 [==============================] - 2s 3ms/step - loss: 0.5852 - accuracy: 0.8015 - val_loss: 0.5825 - val_accuracy: 0.7985\n",
            "Epoch 35/70\n",
            "750/750 [==============================] - 2s 3ms/step - loss: 0.5852 - accuracy: 0.8016 - val_loss: 0.5825 - val_accuracy: 0.7985\n",
            "Epoch 36/70\n",
            "750/750 [==============================] - 2s 3ms/step - loss: 0.5852 - accuracy: 0.8014 - val_loss: 0.5825 - val_accuracy: 0.7986\n",
            "Epoch 37/70\n",
            "750/750 [==============================] - 2s 3ms/step - loss: 0.5852 - accuracy: 0.8012 - val_loss: 0.5825 - val_accuracy: 0.7985\n",
            "Epoch 38/70\n",
            "750/750 [==============================] - 3s 3ms/step - loss: 0.5852 - accuracy: 0.8015 - val_loss: 0.5825 - val_accuracy: 0.7985\n",
            "Epoch 39/70\n",
            "750/750 [==============================] - 2s 3ms/step - loss: 0.5852 - accuracy: 0.8015 - val_loss: 0.5825 - val_accuracy: 0.7986\n",
            "Epoch 40/70\n",
            "750/750 [==============================] - 2s 3ms/step - loss: 0.5852 - accuracy: 0.8014 - val_loss: 0.5825 - val_accuracy: 0.7986\n",
            "Epoch 41/70\n",
            "750/750 [==============================] - 4s 5ms/step - loss: 0.5852 - accuracy: 0.8015 - val_loss: 0.5825 - val_accuracy: 0.7985\n",
            "Epoch 42/70\n",
            "750/750 [==============================] - 2s 3ms/step - loss: 0.5852 - accuracy: 0.8014 - val_loss: 0.5825 - val_accuracy: 0.7987\n",
            "Epoch 43/70\n",
            "750/750 [==============================] - 3s 4ms/step - loss: 0.5852 - accuracy: 0.8014 - val_loss: 0.5825 - val_accuracy: 0.7988\n",
            "Epoch 44/70\n",
            "750/750 [==============================] - 3s 4ms/step - loss: 0.5852 - accuracy: 0.8013 - val_loss: 0.5825 - val_accuracy: 0.7987\n",
            "Epoch 45/70\n",
            "750/750 [==============================] - 2s 3ms/step - loss: 0.5852 - accuracy: 0.8015 - val_loss: 0.5825 - val_accuracy: 0.7986\n",
            "Epoch 46/70\n",
            "750/750 [==============================] - 2s 2ms/step - loss: 0.5852 - accuracy: 0.8014 - val_loss: 0.5825 - val_accuracy: 0.7987\n",
            "Epoch 47/70\n",
            "750/750 [==============================] - 2s 3ms/step - loss: 0.5852 - accuracy: 0.8014 - val_loss: 0.5825 - val_accuracy: 0.7986\n",
            "Epoch 48/70\n",
            "750/750 [==============================] - 2s 3ms/step - loss: 0.5852 - accuracy: 0.8014 - val_loss: 0.5825 - val_accuracy: 0.7986\n",
            "Epoch 49/70\n",
            "750/750 [==============================] - 3s 4ms/step - loss: 0.5852 - accuracy: 0.8013 - val_loss: 0.5825 - val_accuracy: 0.7986\n",
            "Epoch 50/70\n",
            "750/750 [==============================] - 2s 3ms/step - loss: 0.5852 - accuracy: 0.8013 - val_loss: 0.5825 - val_accuracy: 0.7984\n",
            "Epoch 51/70\n",
            "750/750 [==============================] - 2s 3ms/step - loss: 0.5852 - accuracy: 0.8014 - val_loss: 0.5825 - val_accuracy: 0.7987\n",
            "Epoch 52/70\n",
            "750/750 [==============================] - 2s 3ms/step - loss: 0.5852 - accuracy: 0.8013 - val_loss: 0.5825 - val_accuracy: 0.7986\n",
            "Epoch 53/70\n",
            "750/750 [==============================] - 2s 3ms/step - loss: 0.5852 - accuracy: 0.8015 - val_loss: 0.5825 - val_accuracy: 0.7985\n",
            "Epoch 54/70\n",
            "750/750 [==============================] - 2s 3ms/step - loss: 0.5852 - accuracy: 0.8014 - val_loss: 0.5825 - val_accuracy: 0.7985\n",
            "Epoch 55/70\n",
            "750/750 [==============================] - 3s 4ms/step - loss: 0.5852 - accuracy: 0.8016 - val_loss: 0.5825 - val_accuracy: 0.7987\n",
            "Epoch 56/70\n",
            "750/750 [==============================] - 2s 3ms/step - loss: 0.5852 - accuracy: 0.8015 - val_loss: 0.5825 - val_accuracy: 0.7987\n",
            "Epoch 57/70\n",
            "750/750 [==============================] - 2s 3ms/step - loss: 0.5852 - accuracy: 0.8015 - val_loss: 0.5825 - val_accuracy: 0.7987\n",
            "Epoch 58/70\n",
            "750/750 [==============================] - 2s 3ms/step - loss: 0.5852 - accuracy: 0.8015 - val_loss: 0.5824 - val_accuracy: 0.7989\n",
            "Epoch 59/70\n",
            "750/750 [==============================] - 2s 3ms/step - loss: 0.5852 - accuracy: 0.8014 - val_loss: 0.5825 - val_accuracy: 0.7986\n",
            "Epoch 60/70\n",
            "750/750 [==============================] - 2s 3ms/step - loss: 0.5852 - accuracy: 0.8015 - val_loss: 0.5825 - val_accuracy: 0.7987\n",
            "Epoch 61/70\n",
            "750/750 [==============================] - 2s 3ms/step - loss: 0.5852 - accuracy: 0.8014 - val_loss: 0.5824 - val_accuracy: 0.7987\n",
            "Epoch 62/70\n",
            "750/750 [==============================] - 2s 2ms/step - loss: 0.5852 - accuracy: 0.8014 - val_loss: 0.5825 - val_accuracy: 0.7988\n",
            "Epoch 63/70\n",
            "750/750 [==============================] - 2s 3ms/step - loss: 0.5852 - accuracy: 0.8012 - val_loss: 0.5825 - val_accuracy: 0.7987\n",
            "Epoch 64/70\n",
            "750/750 [==============================] - 2s 3ms/step - loss: 0.5852 - accuracy: 0.8015 - val_loss: 0.5825 - val_accuracy: 0.7985\n",
            "Epoch 65/70\n",
            "750/750 [==============================] - 2s 3ms/step - loss: 0.5852 - accuracy: 0.8014 - val_loss: 0.5825 - val_accuracy: 0.7985\n",
            "Epoch 66/70\n",
            "750/750 [==============================] - 3s 3ms/step - loss: 0.5852 - accuracy: 0.8014 - val_loss: 0.5825 - val_accuracy: 0.7986\n",
            "Epoch 67/70\n",
            "750/750 [==============================] - 2s 3ms/step - loss: 0.5852 - accuracy: 0.8014 - val_loss: 0.5825 - val_accuracy: 0.7986\n",
            "Epoch 68/70\n",
            "750/750 [==============================] - 2s 3ms/step - loss: 0.5852 - accuracy: 0.8015 - val_loss: 0.5825 - val_accuracy: 0.7986\n",
            "Epoch 69/70\n",
            "750/750 [==============================] - 2s 3ms/step - loss: 0.5852 - accuracy: 0.8014 - val_loss: 0.5825 - val_accuracy: 0.7986\n",
            "Epoch 70/70\n",
            "750/750 [==============================] - 2s 3ms/step - loss: 0.5852 - accuracy: 0.8015 - val_loss: 0.5825 - val_accuracy: 0.7986\n"
          ]
        }
      ]
    },
    {
      "cell_type": "code",
      "source": [
        "import matplotlib.pyplot as plt\n",
        "%matplotlib inline\n",
        "print(training.history.keys())"
      ],
      "metadata": {
        "colab": {
          "base_uri": "https://localhost:8080/"
        },
        "id": "kd9tH_hdGlwM",
        "outputId": "c30d9597-5850-4c70-9022-5babf7d44e73"
      },
      "execution_count": null,
      "outputs": [
        {
          "output_type": "stream",
          "name": "stdout",
          "text": [
            "dict_keys(['loss', 'accuracy', 'val_loss', 'val_accuracy'])\n"
          ]
        }
      ]
    },
    {
      "cell_type": "code",
      "source": [
        "# summarize training for accuracy\n",
        "plt.plot(training.history['accuracy'])\n",
        "plt.plot(training.history['val_accuracy'])\n",
        "plt.title('model accuracy')\n",
        "plt.ylabel('accuracy')\n",
        "plt.xlabel('epoch')\n",
        "plt.legend(['train', 'test'], loc='upper left')\n",
        "plt.show()\n"
      ],
      "metadata": {
        "colab": {
          "base_uri": "https://localhost:8080/",
          "height": 472
        },
        "id": "oIy1VdGkIqJx",
        "outputId": "96629043-9042-46a9-9d1a-379268d25520"
      },
      "execution_count": null,
      "outputs": [
        {
          "output_type": "display_data",
          "data": {
            "text/plain": [
              "<Figure size 640x480 with 1 Axes>"
            ],
            "image/png": "[encoded data removed]"
          },
          "metadata": {}
        }
      ]
    },
    {
      "cell_type": "code",
      "source": [
        "test_loss,test_accuracy = model0.evaluate(test_images,test_labels)\n",
        "print(\"Test Accuracy: \",test_accuracy)"
      ],
      "metadata": {
        "colab": {
          "base_uri": "https://localhost:8080/"
        },
        "id": "pXz6gvn4HeKd",
        "outputId": "4523fa65-9b76-4a49-b3c0-a245b2eaacbf"
      },
      "execution_count": null,
      "outputs": [
        {
          "output_type": "stream",
          "name": "stdout",
          "text": [
            "313/313 [==============================] - 1s 2ms/step - loss: 0.6015 - accuracy: 0.7926\n",
            "Test Accuracy:  0.7925999760627747\n"
          ]
        }
      ]
    },
    {
      "cell_type": "code",
      "source": [
        "model0.summary()"
      ],
      "metadata": {
        "colab": {
          "base_uri": "https://localhost:8080/"
        },
        "id": "xL-c6Wz6HxBL",
        "outputId": "64ce122c-8ee2-42f8-b596-c5c9a5e61ffc"
      },
      "execution_count": null,
      "outputs": [
        {
          "output_type": "stream",
          "name": "stdout",
          "text": [
            "Model: \"sequential\"\n",
            "_________________________________________________________________\n",
            " Layer (type)                Output Shape              Param #   \n",
            "=================================================================\n",
            " dense_layer (Dense)         (None, 10)                7850      \n",
            "                                                                 \n",
            "=================================================================\n",
            "Total params: 7850 (30.66 KB)\n",
            "Trainable params: 7850 (30.66 KB)\n",
            "Non-trainable params: 0 (0.00 Byte)\n",
            "_________________________________________________________________\n"
          ]
        }
      ]
    },
    {
      "cell_type": "markdown",
      "source": [
        "## Improved Model 2- Adding Droupout to avoide overfitting"
      ],
      "metadata": {
        "id": "WYmc9LU0IMJi"
      }
    },
    {
      "cell_type": "code",
      "source": [
        "from tensorflow.keras.layers import Dropout\n",
        "model2 = tf.keras.Sequential()\n",
        "hidden=128\n",
        "model2.add(Dense(hidden,name='dense_layer',input_shape=(784,),activation='relu'))\n",
        "model2.add(Dropout(0.3))\n",
        "\n",
        "model2.add(Dense(hidden,name='dense_layer_2',activation='relu'))\n",
        "model2.add(Dropout(0.3))\n",
        "# Add an output layer with 10 outpiutrs(10 classes)\n",
        "model2.add(Dense(10,name='dense_layer_3',activation='softmax'))"
      ],
      "metadata": {
        "id": "aH-140OVIRP3"
      },
      "execution_count": null,
      "outputs": []
    },
    {
      "cell_type": "code",
      "source": [
        "model2.compile(optimizer='SGD',\n",
        "               loss='categorical_crossentropy',\n",
        "               metrics=['accuracy'])"
      ],
      "metadata": {
        "id": "Duuxte53Io4n"
      },
      "execution_count": null,
      "outputs": []
    },
    {
      "cell_type": "code",
      "source": [
        "training=model2.fit(train_images,train_labels,batch_size=64,epochs=50,validation_split=0.2)"
      ],
      "metadata": {
        "colab": {
          "base_uri": "https://localhost:8080/"
        },
        "id": "lTCp4d7pJqyX",
        "outputId": "d81d9cc5-a347-4e97-d92d-d677e821425d"
      },
      "execution_count": null,
      "outputs": [
        {
          "output_type": "stream",
          "name": "stdout",
          "text": [
            "Epoch 1/50\n",
            "750/750 [==============================] - 6s 7ms/step - loss: 2.3007 - accuracy: 0.1350 - val_loss: 2.3004 - val_accuracy: 0.1292\n",
            "Epoch 2/50\n",
            "750/750 [==============================] - 4s 5ms/step - loss: 2.3003 - accuracy: 0.1377 - val_loss: 2.3000 - val_accuracy: 0.2307\n",
            "Epoch 3/50\n",
            "750/750 [==============================] - 4s 5ms/step - loss: 2.2998 - accuracy: 0.1383 - val_loss: 2.2997 - val_accuracy: 0.1438\n",
            "Epoch 4/50\n",
            "750/750 [==============================] - 5s 6ms/step - loss: 2.2996 - accuracy: 0.1381 - val_loss: 2.2993 - val_accuracy: 0.1898\n",
            "Epoch 5/50\n",
            "750/750 [==============================] - 4s 5ms/step - loss: 2.2993 - accuracy: 0.1548 - val_loss: 2.2990 - val_accuracy: 0.1468\n",
            "Epoch 6/50\n",
            "750/750 [==============================] - 4s 5ms/step - loss: 2.2989 - accuracy: 0.1449 - val_loss: 2.2987 - val_accuracy: 0.1972\n",
            "Epoch 7/50\n",
            "750/750 [==============================] - 4s 6ms/step - loss: 2.2985 - accuracy: 0.1507 - val_loss: 2.2982 - val_accuracy: 0.1709\n",
            "Epoch 8/50\n",
            "750/750 [==============================] - 4s 6ms/step - loss: 2.2980 - accuracy: 0.1590 - val_loss: 2.2977 - val_accuracy: 0.2472\n",
            "Epoch 9/50\n",
            "750/750 [==============================] - 4s 5ms/step - loss: 2.2975 - accuracy: 0.1643 - val_loss: 2.2972 - val_accuracy: 0.1657\n",
            "Epoch 10/50\n",
            "750/750 [==============================] - 5s 7ms/step - loss: 2.2970 - accuracy: 0.1663 - val_loss: 2.2965 - val_accuracy: 0.2724\n",
            "Epoch 11/50\n",
            "750/750 [==============================] - 4s 5ms/step - loss: 2.2964 - accuracy: 0.1806 - val_loss: 2.2960 - val_accuracy: 0.1982\n",
            "Epoch 12/50\n",
            "750/750 [==============================] - 4s 5ms/step - loss: 2.2957 - accuracy: 0.1838 - val_loss: 2.2952 - val_accuracy: 0.3194\n",
            "Epoch 13/50\n",
            "750/750 [==============================] - 5s 7ms/step - loss: 2.2951 - accuracy: 0.1909 - val_loss: 2.2945 - val_accuracy: 0.3428\n",
            "Epoch 14/50\n",
            "750/750 [==============================] - 4s 5ms/step - loss: 2.2941 - accuracy: 0.2116 - val_loss: 2.2936 - val_accuracy: 0.2526\n",
            "Epoch 15/50\n",
            "750/750 [==============================] - 4s 5ms/step - loss: 2.2932 - accuracy: 0.2001 - val_loss: 2.2925 - val_accuracy: 0.3219\n",
            "Epoch 16/50\n",
            "750/750 [==============================] - 5s 7ms/step - loss: 2.2921 - accuracy: 0.2100 - val_loss: 2.2914 - val_accuracy: 0.3252\n",
            "Epoch 17/50\n",
            "750/750 [==============================] - 4s 5ms/step - loss: 2.2909 - accuracy: 0.2191 - val_loss: 2.2900 - val_accuracy: 0.3988\n",
            "Epoch 18/50\n",
            "750/750 [==============================] - 4s 6ms/step - loss: 2.2896 - accuracy: 0.2306 - val_loss: 2.2886 - val_accuracy: 0.2358\n",
            "Epoch 19/50\n",
            "750/750 [==============================] - 6s 8ms/step - loss: 2.2879 - accuracy: 0.2314 - val_loss: 2.2868 - val_accuracy: 0.5037\n",
            "Epoch 20/50\n",
            "750/750 [==============================] - 4s 5ms/step - loss: 2.2861 - accuracy: 0.2398 - val_loss: 2.2848 - val_accuracy: 0.4862\n",
            "Epoch 21/50\n",
            "750/750 [==============================] - 4s 5ms/step - loss: 2.2840 - accuracy: 0.2493 - val_loss: 2.2826 - val_accuracy: 0.4101\n",
            "Epoch 22/50\n",
            "750/750 [==============================] - 5s 7ms/step - loss: 2.2815 - accuracy: 0.2575 - val_loss: 2.2798 - val_accuracy: 0.3717\n",
            "Epoch 23/50\n",
            "750/750 [==============================] - 4s 6ms/step - loss: 2.2786 - accuracy: 0.2642 - val_loss: 2.2767 - val_accuracy: 0.4095\n",
            "Epoch 24/50\n",
            "750/750 [==============================] - 4s 5ms/step - loss: 2.2751 - accuracy: 0.2711 - val_loss: 2.2727 - val_accuracy: 0.3843\n",
            "Epoch 25/50\n",
            "750/750 [==============================] - 5s 7ms/step - loss: 2.2708 - accuracy: 0.2781 - val_loss: 2.2680 - val_accuracy: 0.3950\n",
            "Epoch 26/50\n",
            "750/750 [==============================] - 4s 5ms/step - loss: 2.2657 - accuracy: 0.2811 - val_loss: 2.2624 - val_accuracy: 0.3876\n",
            "Epoch 27/50\n",
            "750/750 [==============================] - 4s 5ms/step - loss: 2.2597 - accuracy: 0.2917 - val_loss: 2.2553 - val_accuracy: 0.4106\n",
            "Epoch 28/50\n",
            "750/750 [==============================] - 5s 6ms/step - loss: 2.2520 - accuracy: 0.2918 - val_loss: 2.2467 - val_accuracy: 0.3942\n",
            "Epoch 29/50\n",
            "750/750 [==============================] - 4s 5ms/step - loss: 2.2424 - accuracy: 0.3045 - val_loss: 2.2360 - val_accuracy: 0.3787\n",
            "Epoch 30/50\n",
            "750/750 [==============================] - 4s 5ms/step - loss: 2.2312 - accuracy: 0.2981 - val_loss: 2.2226 - val_accuracy: 0.4254\n",
            "Epoch 31/50\n",
            "750/750 [==============================] - 5s 6ms/step - loss: 2.2161 - accuracy: 0.3089 - val_loss: 2.2056 - val_accuracy: 0.4033\n",
            "Epoch 32/50\n",
            "750/750 [==============================] - 4s 5ms/step - loss: 2.1980 - accuracy: 0.3086 - val_loss: 2.1843 - val_accuracy: 0.4156\n",
            "Epoch 33/50\n",
            "750/750 [==============================] - 4s 5ms/step - loss: 2.1744 - accuracy: 0.3071 - val_loss: 2.1583 - val_accuracy: 0.4005\n",
            "Epoch 34/50\n",
            "750/750 [==============================] - 5s 6ms/step - loss: 2.1455 - accuracy: 0.3083 - val_loss: 2.1239 - val_accuracy: 0.3922\n",
            "Epoch 35/50\n",
            "750/750 [==============================] - 4s 5ms/step - loss: 2.1113 - accuracy: 0.3096 - val_loss: 2.0844 - val_accuracy: 0.3772\n",
            "Epoch 36/50\n",
            "750/750 [==============================] - 4s 5ms/step - loss: 2.0705 - accuracy: 0.3112 - val_loss: 2.0382 - val_accuracy: 0.3395\n",
            "Epoch 37/50\n",
            "750/750 [==============================] - 5s 6ms/step - loss: 2.0253 - accuracy: 0.3110 - val_loss: 1.9880 - val_accuracy: 0.3646\n",
            "Epoch 38/50\n",
            "750/750 [==============================] - 4s 5ms/step - loss: 1.9772 - accuracy: 0.3235 - val_loss: 1.9353 - val_accuracy: 0.3898\n",
            "Epoch 39/50\n",
            "750/750 [==============================] - 4s 5ms/step - loss: 1.9270 - accuracy: 0.3306 - val_loss: 1.8848 - val_accuracy: 0.4230\n",
            "Epoch 40/50\n",
            "750/750 [==============================] - 5s 7ms/step - loss: 1.8810 - accuracy: 0.3346 - val_loss: 1.8345 - val_accuracy: 0.4392\n",
            "Epoch 41/50\n",
            "750/750 [==============================] - 4s 5ms/step - loss: 1.8391 - accuracy: 0.3438 - val_loss: 1.7877 - val_accuracy: 0.4385\n",
            "Epoch 42/50\n",
            "750/750 [==============================] - 4s 5ms/step - loss: 1.7985 - accuracy: 0.3525 - val_loss: 1.7465 - val_accuracy: 0.4157\n",
            "Epoch 43/50\n",
            "750/750 [==============================] - 5s 6ms/step - loss: 1.7594 - accuracy: 0.3615 - val_loss: 1.7058 - val_accuracy: 0.4801\n",
            "Epoch 44/50\n",
            "750/750 [==============================] - 4s 5ms/step - loss: 1.7232 - accuracy: 0.3690 - val_loss: 1.6656 - val_accuracy: 0.4593\n",
            "Epoch 45/50\n",
            "750/750 [==============================] - 4s 5ms/step - loss: 1.6878 - accuracy: 0.3815 - val_loss: 1.6284 - val_accuracy: 0.4878\n",
            "Epoch 46/50\n",
            "750/750 [==============================] - 5s 7ms/step - loss: 1.6520 - accuracy: 0.3892 - val_loss: 1.5897 - val_accuracy: 0.4872\n",
            "Epoch 47/50\n",
            "750/750 [==============================] - 4s 5ms/step - loss: 1.6194 - accuracy: 0.3995 - val_loss: 1.5508 - val_accuracy: 0.4821\n",
            "Epoch 48/50\n",
            "750/750 [==============================] - 4s 5ms/step - loss: 1.5842 - accuracy: 0.4078 - val_loss: 1.5170 - val_accuracy: 0.5042\n",
            "Epoch 49/50\n",
            "750/750 [==============================] - 5s 6ms/step - loss: 1.5498 - accuracy: 0.4183 - val_loss: 1.4813 - val_accuracy: 0.5027\n",
            "Epoch 50/50\n",
            "750/750 [==============================] - 4s 5ms/step - loss: 1.5217 - accuracy: 0.4248 - val_loss: 1.4436 - val_accuracy: 0.5077\n"
          ]
        }
      ]
    },
    {
      "cell_type": "code",
      "source": [
        "test_loss,test_accuracy = model2.evaluate(test_images,test_labels)\n",
        "print(\"Test Accuracy: \",test_accuracy)"
      ],
      "metadata": {
        "colab": {
          "base_uri": "https://localhost:8080/"
        },
        "id": "uwPRz6S9Jp7A",
        "outputId": "b21771c9-1fe1-4278-8db0-7877d3a340b6"
      },
      "execution_count": null,
      "outputs": [
        {
          "output_type": "stream",
          "name": "stdout",
          "text": [
            "313/313 [==============================] - 1s 2ms/step - loss: 1.4485 - accuracy: 0.5101\n",
            "Test Accuracy:  0.5101000070571899\n"
          ]
        }
      ]
    },
    {
      "cell_type": "code",
      "source": [
        "model2.summary()"
      ],
      "metadata": {
        "colab": {
          "base_uri": "https://localhost:8080/"
        },
        "id": "EPurQwetJ_dA",
        "outputId": "9095528e-8953-4980-e3de-94d7aa83d7b1"
      },
      "execution_count": null,
      "outputs": [
        {
          "output_type": "stream",
          "name": "stdout",
          "text": [
            "Model: \"sequential_5\"\n",
            "_________________________________________________________________\n",
            " Layer (type)                Output Shape              Param #   \n",
            "=================================================================\n",
            " dense_layer (Dense)         (None, 128)               100480    \n",
            "                                                                 \n",
            " dropout_6 (Dropout)         (None, 128)               0         \n",
            "                                                                 \n",
            " dense_layer_2 (Dense)       (None, 128)               16512     \n",
            "                                                                 \n",
            " dropout_7 (Dropout)         (None, 128)               0         \n",
            "                                                                 \n",
            " dense_layer_3 (Dense)       (None, 10)                1290      \n",
            "                                                                 \n",
            "=================================================================\n",
            "Total params: 118282 (462.04 KB)\n",
            "Trainable params: 118282 (462.04 KB)\n",
            "Non-trainable params: 0 (0.00 Byte)\n",
            "_________________________________________________________________\n"
          ]
        }
      ]
    },
    {
      "cell_type": "markdown",
      "source": [
        "## Improves Model 3 : Adam Optimizer"
      ],
      "metadata": {
        "id": "R-atCaQcKrMJ"
      }
    },
    {
      "cell_type": "code",
      "source": [
        "model3 = tf.keras.Sequential()\n",
        "hidden=64\n",
        "model3.add(Dense(hidden,name='dense_layer',input_shape=(784,),activation='relu'))\n",
        "model3.add(Dropout(0.3))\n",
        "\n",
        "model3.add(Dense(hidden,name='dense_layer_2',activation='relu'))\n",
        "model3.add(Dropout(0.3))\n",
        "# Add an output layer with 10 outpiutrs(10 classes)\n",
        "model3.add(Dense(10,name='dense_layer_3',activation='softmax'))"
      ],
      "metadata": {
        "id": "SMY08ptcKoC7"
      },
      "execution_count": null,
      "outputs": []
    },
    {
      "cell_type": "code",
      "source": [
        "model3.compile(optimizer='Adam',\n",
        "               loss='categorical_crossentropy',\n",
        "               metrics=['accuracy'])"
      ],
      "metadata": {
        "id": "Zi_I79SoLt80"
      },
      "execution_count": null,
      "outputs": []
    },
    {
      "cell_type": "code",
      "source": [
        "training=model3.fit(train_images,train_labels,batch_size=128,epochs=20,validation_split=0.2)"
      ],
      "metadata": {
        "colab": {
          "base_uri": "https://localhost:8080/"
        },
        "id": "RqKZbFWKLxXL",
        "outputId": "c6ba2a86-0d9a-49b2-d162-8a3eb350871a"
      },
      "execution_count": null,
      "outputs": [
        {
          "output_type": "stream",
          "name": "stdout",
          "text": [
            "Epoch 1/20\n",
            "375/375 [==============================] - 5s 9ms/step - loss: 1.5942 - accuracy: 0.4039 - val_loss: 1.0363 - val_accuracy: 0.6028\n",
            "Epoch 2/20\n",
            "375/375 [==============================] - 2s 5ms/step - loss: 1.0304 - accuracy: 0.5994 - val_loss: 0.7969 - val_accuracy: 0.7355\n",
            "Epoch 3/20\n",
            "375/375 [==============================] - 2s 5ms/step - loss: 0.8561 - accuracy: 0.6808 - val_loss: 0.6839 - val_accuracy: 0.7506\n",
            "Epoch 4/20\n",
            "375/375 [==============================] - 2s 6ms/step - loss: 0.7659 - accuracy: 0.7134 - val_loss: 0.6330 - val_accuracy: 0.7688\n",
            "Epoch 5/20\n",
            "375/375 [==============================] - 2s 5ms/step - loss: 0.7115 - accuracy: 0.7356 - val_loss: 0.5961 - val_accuracy: 0.7713\n",
            "Epoch 6/20\n",
            "375/375 [==============================] - 3s 7ms/step - loss: 0.6741 - accuracy: 0.7490 - val_loss: 0.5671 - val_accuracy: 0.7854\n",
            "Epoch 7/20\n",
            "375/375 [==============================] - 3s 7ms/step - loss: 0.6425 - accuracy: 0.7619 - val_loss: 0.5421 - val_accuracy: 0.7924\n",
            "Epoch 8/20\n",
            "375/375 [==============================] - 2s 6ms/step - loss: 0.6169 - accuracy: 0.7718 - val_loss: 0.5229 - val_accuracy: 0.8005\n",
            "Epoch 9/20\n",
            "375/375 [==============================] - 2s 5ms/step - loss: 0.5957 - accuracy: 0.7833 - val_loss: 0.5094 - val_accuracy: 0.8069\n",
            "Epoch 10/20\n",
            "375/375 [==============================] - 2s 5ms/step - loss: 0.5782 - accuracy: 0.7899 - val_loss: 0.4949 - val_accuracy: 0.8173\n",
            "Epoch 11/20\n",
            "375/375 [==============================] - 2s 5ms/step - loss: 0.5621 - accuracy: 0.7980 - val_loss: 0.4835 - val_accuracy: 0.8212\n",
            "Epoch 12/20\n",
            "375/375 [==============================] - 3s 8ms/step - loss: 0.5476 - accuracy: 0.8026 - val_loss: 0.4743 - val_accuracy: 0.8299\n",
            "Epoch 13/20\n",
            "375/375 [==============================] - 2s 5ms/step - loss: 0.5381 - accuracy: 0.8070 - val_loss: 0.4637 - val_accuracy: 0.8309\n",
            "Epoch 14/20\n",
            "375/375 [==============================] - 2s 5ms/step - loss: 0.5235 - accuracy: 0.8149 - val_loss: 0.4559 - val_accuracy: 0.8331\n",
            "Epoch 15/20\n",
            "375/375 [==============================] - 2s 6ms/step - loss: 0.5149 - accuracy: 0.8173 - val_loss: 0.4480 - val_accuracy: 0.8347\n",
            "Epoch 16/20\n",
            "375/375 [==============================] - 2s 5ms/step - loss: 0.5043 - accuracy: 0.8225 - val_loss: 0.4437 - val_accuracy: 0.8388\n",
            "Epoch 17/20\n",
            "375/375 [==============================] - 2s 6ms/step - loss: 0.4969 - accuracy: 0.8248 - val_loss: 0.4388 - val_accuracy: 0.8391\n",
            "Epoch 18/20\n",
            "375/375 [==============================] - 3s 7ms/step - loss: 0.4900 - accuracy: 0.8274 - val_loss: 0.4301 - val_accuracy: 0.8409\n",
            "Epoch 19/20\n",
            "375/375 [==============================] - 2s 5ms/step - loss: 0.4856 - accuracy: 0.8295 - val_loss: 0.4268 - val_accuracy: 0.8428\n",
            "Epoch 20/20\n",
            "375/375 [==============================] - 2s 6ms/step - loss: 0.4790 - accuracy: 0.8306 - val_loss: 0.4228 - val_accuracy: 0.8463\n"
          ]
        }
      ]
    },
    {
      "cell_type": "code",
      "source": [
        "test_loss,test_accuracy = model3.evaluate(test_images,test_labels)\n",
        "print(\"Test Accuracy: \",test_accuracy)"
      ],
      "metadata": {
        "colab": {
          "base_uri": "https://localhost:8080/"
        },
        "id": "OApB73rEL5WD",
        "outputId": "a05be3e8-e83a-4e0a-d4bc-31f3792f488c"
      },
      "execution_count": null,
      "outputs": [
        {
          "output_type": "stream",
          "name": "stdout",
          "text": [
            "313/313 [==============================] - 1s 2ms/step - loss: 0.4476 - accuracy: 0.8353\n",
            "Test Accuracy:  0.8353000283241272\n"
          ]
        }
      ]
    },
    {
      "cell_type": "code",
      "source": [
        "model3.summary()"
      ],
      "metadata": {
        "colab": {
          "base_uri": "https://localhost:8080/"
        },
        "id": "khH2wyHRMUEc",
        "outputId": "92764168-fedf-46e8-8185-cd1f70cbd3a9"
      },
      "execution_count": null,
      "outputs": [
        {
          "output_type": "stream",
          "name": "stdout",
          "text": [
            "Model: \"sequential_6\"\n",
            "_________________________________________________________________\n",
            " Layer (type)                Output Shape              Param #   \n",
            "=================================================================\n",
            " dense_layer (Dense)         (None, 64)                50240     \n",
            "                                                                 \n",
            " dropout_8 (Dropout)         (None, 64)                0         \n",
            "                                                                 \n",
            " dense_layer_2 (Dense)       (None, 64)                4160      \n",
            "                                                                 \n",
            " dropout_9 (Dropout)         (None, 64)                0         \n",
            "                                                                 \n",
            " dense_layer_3 (Dense)       (None, 10)                650       \n",
            "                                                                 \n",
            "=================================================================\n",
            "Total params: 55050 (215.04 KB)\n",
            "Trainable params: 55050 (215.04 KB)\n",
            "Non-trainable params: 0 (0.00 Byte)\n",
            "_________________________________________________________________\n"
          ]
        }
      ]
    },
    {
      "cell_type": "code",
      "source": [
        "model3.get_config()"
      ],
      "metadata": {
        "colab": {
          "base_uri": "https://localhost:8080/"
        },
        "id": "Hektli-TMr8b",
        "outputId": "6855c845-d919-493e-9d26-7ae411e566f8"
      },
      "execution_count": null,
      "outputs": [
        {
          "output_type": "execute_result",
          "data": {
            "text/plain": [
              "{'name': 'sequential_6',\n",
              " 'layers': [{'module': 'keras.layers',\n",
              "   'class_name': 'InputLayer',\n",
              "   'config': {'batch_input_shape': (None, 784),\n",
              "    'dtype': 'float32',\n",
              "    'sparse': False,\n",
              "    'ragged': False,\n",
              "    'name': 'dense_layer_input'},\n",
              "   'registered_name': None},\n",
              "  {'module': 'keras.layers',\n",
              "   'class_name': 'Dense',\n",
              "   'config': {'name': 'dense_layer',\n",
              "    'trainable': True,\n",
              "    'dtype': 'float32',\n",
              "    'batch_input_shape': (None, 784),\n",
              "    'units': 64,\n",
              "    'activation': 'relu',\n",
              "    'use_bias': True,\n",
              "    'kernel_initializer': {'module': 'keras.initializers',\n",
              "     'class_name': 'GlorotUniform',\n",
              "     'config': {'seed': None},\n",
              "     'registered_name': None},\n",
              "    'bias_initializer': {'module': 'keras.initializers',\n",
              "     'class_name': 'Zeros',\n",
              "     'config': {},\n",
              "     'registered_name': None},\n",
              "    'kernel_regularizer': None,\n",
              "    'bias_regularizer': None,\n",
              "    'activity_regularizer': None,\n",
              "    'kernel_constraint': None,\n",
              "    'bias_constraint': None},\n",
              "   'registered_name': None,\n",
              "   'build_config': {'input_shape': (None, 784)}},\n",
              "  {'module': 'keras.layers',\n",
              "   'class_name': 'Dropout',\n",
              "   'config': {'name': 'dropout_8',\n",
              "    'trainable': True,\n",
              "    'dtype': 'float32',\n",
              "    'rate': 0.3,\n",
              "    'noise_shape': None,\n",
              "    'seed': None},\n",
              "   'registered_name': None,\n",
              "   'build_config': {'input_shape': (None, 64)}},\n",
              "  {'module': 'keras.layers',\n",
              "   'class_name': 'Dense',\n",
              "   'config': {'name': 'dense_layer_2',\n",
              "    'trainable': True,\n",
              "    'dtype': 'float32',\n",
              "    'units': 64,\n",
              "    'activation': 'relu',\n",
              "    'use_bias': True,\n",
              "    'kernel_initializer': {'module': 'keras.initializers',\n",
              "     'class_name': 'GlorotUniform',\n",
              "     'config': {'seed': None},\n",
              "     'registered_name': None},\n",
              "    'bias_initializer': {'module': 'keras.initializers',\n",
              "     'class_name': 'Zeros',\n",
              "     'config': {},\n",
              "     'registered_name': None},\n",
              "    'kernel_regularizer': None,\n",
              "    'bias_regularizer': None,\n",
              "    'activity_regularizer': None,\n",
              "    'kernel_constraint': None,\n",
              "    'bias_constraint': None},\n",
              "   'registered_name': None,\n",
              "   'build_config': {'input_shape': (None, 64)}},\n",
              "  {'module': 'keras.layers',\n",
              "   'class_name': 'Dropout',\n",
              "   'config': {'name': 'dropout_9',\n",
              "    'trainable': True,\n",
              "    'dtype': 'float32',\n",
              "    'rate': 0.3,\n",
              "    'noise_shape': None,\n",
              "    'seed': None},\n",
              "   'registered_name': None,\n",
              "   'build_config': {'input_shape': (None, 64)}},\n",
              "  {'module': 'keras.layers',\n",
              "   'class_name': 'Dense',\n",
              "   'config': {'name': 'dense_layer_3',\n",
              "    'trainable': True,\n",
              "    'dtype': 'float32',\n",
              "    'units': 10,\n",
              "    'activation': 'softmax',\n",
              "    'use_bias': True,\n",
              "    'kernel_initializer': {'module': 'keras.initializers',\n",
              "     'class_name': 'GlorotUniform',\n",
              "     'config': {'seed': None},\n",
              "     'registered_name': None},\n",
              "    'bias_initializer': {'module': 'keras.initializers',\n",
              "     'class_name': 'Zeros',\n",
              "     'config': {},\n",
              "     'registered_name': None},\n",
              "    'kernel_regularizer': None,\n",
              "    'bias_regularizer': None,\n",
              "    'activity_regularizer': None,\n",
              "    'kernel_constraint': None,\n",
              "    'bias_constraint': None},\n",
              "   'registered_name': None,\n",
              "   'build_config': {'input_shape': (None, 64)}}]}"
            ]
          },
          "metadata": {},
          "execution_count": 78
        }
      ]
    },
    {
      "cell_type": "markdown",
      "source": [
        "## Improved Model 4:Increasing no. of hidden layer neurons"
      ],
      "metadata": {
        "id": "LCB8CguuMklS"
      }
    },
    {
      "cell_type": "code",
      "source": [
        "model4 = tf.keras.Sequential()\n",
        "hidden=512\n",
        "model4.add(Dense(hidden,name='dense_layer',input_shape=(784,),activation='relu'))\n",
        "model4.add(Dropout(0.3))\n",
        "\n",
        "model4.add(Dense(hidden,name='dense_layer_2',activation='relu'))\n",
        "model4.add(Dropout(0.3))\n",
        "# Add an output layer with 10 outpiutrs(10 classes)\n",
        "model4.add(Dense(10,name='dense_layer_3',activation='softmax'))"
      ],
      "metadata": {
        "id": "Ysww8ZVYMVjo"
      },
      "execution_count": null,
      "outputs": []
    },
    {
      "cell_type": "code",
      "source": [
        "model4.compile(optimizer='Adam',\n",
        "               loss='categorical_crossentropy',\n",
        "               metrics=['accuracy'])"
      ],
      "metadata": {
        "id": "LlJnO4GANTnY"
      },
      "execution_count": null,
      "outputs": []
    },
    {
      "cell_type": "code",
      "source": [
        "training=model4.fit(train_images,train_labels,batch_size=128,epochs=20,validation_split=0.2)"
      ],
      "metadata": {
        "colab": {
          "base_uri": "https://localhost:8080/"
        },
        "id": "-kMH4fJdNcIm",
        "outputId": "c1198446-0a75-4d1a-ad70-66b7e6980281"
      },
      "execution_count": null,
      "outputs": [
        {
          "output_type": "stream",
          "name": "stdout",
          "text": [
            "Epoch 1/20\n",
            "375/375 [==============================] - 16s 35ms/step - loss: 0.9864 - accuracy: 0.6417 - val_loss: 0.6165 - val_accuracy: 0.7719\n",
            "Epoch 2/20\n",
            "375/375 [==============================] - 13s 35ms/step - loss: 0.5968 - accuracy: 0.7799 - val_loss: 0.5280 - val_accuracy: 0.8058\n",
            "Epoch 3/20\n",
            "375/375 [==============================] - 14s 38ms/step - loss: 0.5200 - accuracy: 0.8105 - val_loss: 0.4680 - val_accuracy: 0.8307\n",
            "Epoch 4/20\n",
            "375/375 [==============================] - 13s 35ms/step - loss: 0.4752 - accuracy: 0.8289 - val_loss: 0.4355 - val_accuracy: 0.8411\n",
            "Epoch 5/20\n",
            "375/375 [==============================] - 12s 33ms/step - loss: 0.4410 - accuracy: 0.8397 - val_loss: 0.4219 - val_accuracy: 0.8449\n",
            "Epoch 6/20\n",
            "375/375 [==============================] - 12s 32ms/step - loss: 0.4218 - accuracy: 0.8467 - val_loss: 0.4038 - val_accuracy: 0.8494\n",
            "Epoch 7/20\n",
            "375/375 [==============================] - 11s 29ms/step - loss: 0.4029 - accuracy: 0.8534 - val_loss: 0.3951 - val_accuracy: 0.8561\n",
            "Epoch 8/20\n",
            "375/375 [==============================] - 9s 25ms/step - loss: 0.3894 - accuracy: 0.8584 - val_loss: 0.3726 - val_accuracy: 0.8622\n",
            "Epoch 9/20\n",
            "375/375 [==============================] - 7s 20ms/step - loss: 0.3794 - accuracy: 0.8627 - val_loss: 0.3766 - val_accuracy: 0.8592\n",
            "Epoch 10/20\n",
            "375/375 [==============================] - 9s 23ms/step - loss: 0.3655 - accuracy: 0.8669 - val_loss: 0.3625 - val_accuracy: 0.8668\n",
            "Epoch 11/20\n",
            "375/375 [==============================] - 12s 31ms/step - loss: 0.3575 - accuracy: 0.8703 - val_loss: 0.3615 - val_accuracy: 0.8679\n",
            "Epoch 12/20\n",
            "375/375 [==============================] - 8s 21ms/step - loss: 0.3480 - accuracy: 0.8740 - val_loss: 0.3457 - val_accuracy: 0.8748\n",
            "Epoch 13/20\n",
            "375/375 [==============================] - 9s 23ms/step - loss: 0.3408 - accuracy: 0.8757 - val_loss: 0.3417 - val_accuracy: 0.8720\n",
            "Epoch 14/20\n",
            "375/375 [==============================] - 9s 23ms/step - loss: 0.3342 - accuracy: 0.8789 - val_loss: 0.3491 - val_accuracy: 0.8732\n",
            "Epoch 15/20\n",
            "375/375 [==============================] - 7s 20ms/step - loss: 0.3295 - accuracy: 0.8796 - val_loss: 0.3367 - val_accuracy: 0.8774\n",
            "Epoch 16/20\n",
            "375/375 [==============================] - 9s 24ms/step - loss: 0.3214 - accuracy: 0.8824 - val_loss: 0.3282 - val_accuracy: 0.8818\n",
            "Epoch 17/20\n",
            "375/375 [==============================] - 8s 23ms/step - loss: 0.3179 - accuracy: 0.8842 - val_loss: 0.3393 - val_accuracy: 0.8737\n",
            "Epoch 18/20\n",
            "375/375 [==============================] - 8s 21ms/step - loss: 0.3098 - accuracy: 0.8869 - val_loss: 0.3260 - val_accuracy: 0.8827\n",
            "Epoch 19/20\n",
            "375/375 [==============================] - 10s 26ms/step - loss: 0.3065 - accuracy: 0.8878 - val_loss: 0.3275 - val_accuracy: 0.8825\n",
            "Epoch 20/20\n",
            "375/375 [==============================] - 8s 22ms/step - loss: 0.3013 - accuracy: 0.8897 - val_loss: 0.3180 - val_accuracy: 0.8845\n"
          ]
        }
      ]
    },
    {
      "cell_type": "code",
      "source": [
        "test_accuracy=model4.evaluate(test_images,test_labels)\n",
        "print('Test Acc:',test_accuracy)"
      ],
      "metadata": {
        "colab": {
          "base_uri": "https://localhost:8080/"
        },
        "id": "hxXQyQlFNklZ",
        "outputId": "94b11efd-efba-453f-8343-f174525f5550"
      },
      "execution_count": null,
      "outputs": [
        {
          "output_type": "stream",
          "name": "stdout",
          "text": [
            "313/313 [==============================] - 1s 4ms/step - loss: 0.3453 - accuracy: 0.8773\n",
            "Test Acc: [0.3452583849430084, 0.8773000240325928]\n"
          ]
        }
      ]
    },
    {
      "cell_type": "code",
      "source": [
        "model4.summary()"
      ],
      "metadata": {
        "colab": {
          "base_uri": "https://localhost:8080/"
        },
        "id": "HxEjeaCDNwpr",
        "outputId": "482da676-5998-4a7b-a91e-d23104073120"
      },
      "execution_count": null,
      "outputs": [
        {
          "output_type": "stream",
          "name": "stdout",
          "text": [
            "Model: \"sequential_3\"\n",
            "_________________________________________________________________\n",
            " Layer (type)                Output Shape              Param #   \n",
            "=================================================================\n",
            " dense_layer (Dense)         (None, 512)               401920    \n",
            "                                                                 \n",
            " dropout_2 (Dropout)         (None, 512)               0         \n",
            "                                                                 \n",
            " dense_layer_2 (Dense)       (None, 512)               262656    \n",
            "                                                                 \n",
            " dropout_3 (Dropout)         (None, 512)               0         \n",
            "                                                                 \n",
            " dense_layer_3 (Dense)       (None, 10)                5130      \n",
            "                                                                 \n",
            "=================================================================\n",
            "Total params: 669706 (2.55 MB)\n",
            "Trainable params: 669706 (2.55 MB)\n",
            "Non-trainable params: 0 (0.00 Byte)\n",
            "_________________________________________________________________\n"
          ]
        }
      ]
    },
    {
      "cell_type": "markdown",
      "source": [
        "## Model 5:Manipulating Batch Size,adding learning rate"
      ],
      "metadata": {
        "id": "PYiRby-oN1HR"
      }
    },
    {
      "cell_type": "code",
      "source": [
        "import tensorflow as tf\n",
        "from tensorflow.keras.layers import Dense, Dropout\n",
        "from tensorflow.keras.callbacks import ReduceLROnPlateau\n",
        "\n",
        "\n",
        "model4 = tf.keras.Sequential([\n",
        "    Dense(512, input_shape=(784,), activation='relu', name='dense_layer'),\n",
        "    Dropout(0.3),\n",
        "    Dense(512, activation='relu', name='dense_layer_2'),\n",
        "    Dropout(0.3),\n",
        "    Dense(10, activation='softmax', name='dense_layer_3')\n",
        "])\n",
        "\n",
        "\n",
        "model4.compile(optimizer=tf.keras.optimizers.Adam(learning_rate=0.001),\n",
        "               loss='categorical_crossentropy',\n",
        "               metrics=['accuracy'])\n",
        "\n",
        "training = model4.fit(train_images, train_labels, batch_size=128, epochs=20, validation_split=0.2)\n",
        "\n"
      ],
      "metadata": {
        "colab": {
          "base_uri": "https://localhost:8080/"
        },
        "id": "rLWLo4dxS4Hz",
        "outputId": "5aa3e04a-c66e-4964-f8ab-eb8660b2ce04"
      },
      "execution_count": null,
      "outputs": [
        {
          "output_type": "stream",
          "name": "stdout",
          "text": [
            "Epoch 1/20\n",
            "375/375 [==============================] - 10s 24ms/step - loss: 2.3029 - accuracy: 0.0990 - val_loss: 2.3027 - val_accuracy: 0.1005\n",
            "Epoch 2/20\n",
            "375/375 [==============================] - 8s 23ms/step - loss: 2.3027 - accuracy: 0.0983 - val_loss: 2.3027 - val_accuracy: 0.0983\n",
            "Epoch 3/20\n",
            "375/375 [==============================] - 8s 22ms/step - loss: 2.3027 - accuracy: 0.0994 - val_loss: 2.3028 - val_accuracy: 0.0983\n",
            "Epoch 4/20\n",
            "375/375 [==============================] - 9s 23ms/step - loss: 2.3027 - accuracy: 0.1000 - val_loss: 2.3028 - val_accuracy: 0.0983\n",
            "Epoch 5/20\n",
            "375/375 [==============================] - 8s 22ms/step - loss: 2.3027 - accuracy: 0.0999 - val_loss: 2.3027 - val_accuracy: 0.1003\n",
            "Epoch 6/20\n",
            "375/375 [==============================] - 8s 21ms/step - loss: 2.3027 - accuracy: 0.0999 - val_loss: 2.3027 - val_accuracy: 0.0957\n",
            "Epoch 7/20\n",
            "375/375 [==============================] - 9s 23ms/step - loss: 2.3027 - accuracy: 0.0983 - val_loss: 2.3028 - val_accuracy: 0.0957\n",
            "Epoch 8/20\n",
            "375/375 [==============================] - 8s 20ms/step - loss: 2.3027 - accuracy: 0.1005 - val_loss: 2.3028 - val_accuracy: 0.0957\n",
            "Epoch 9/20\n",
            "375/375 [==============================] - 9s 23ms/step - loss: 2.3027 - accuracy: 0.1001 - val_loss: 2.3027 - val_accuracy: 0.0957\n",
            "Epoch 10/20\n",
            "375/375 [==============================] - 9s 24ms/step - loss: 2.3027 - accuracy: 0.0980 - val_loss: 2.3027 - val_accuracy: 0.0957\n",
            "Epoch 11/20\n",
            "375/375 [==============================] - 8s 20ms/step - loss: 2.3027 - accuracy: 0.0992 - val_loss: 2.3027 - val_accuracy: 0.0957\n",
            "Epoch 12/20\n",
            "375/375 [==============================] - 9s 25ms/step - loss: 2.3027 - accuracy: 0.0999 - val_loss: 2.3027 - val_accuracy: 0.0957\n",
            "Epoch 13/20\n",
            "375/375 [==============================] - 9s 23ms/step - loss: 2.3027 - accuracy: 0.0982 - val_loss: 2.3027 - val_accuracy: 0.0957\n",
            "Epoch 14/20\n",
            "375/375 [==============================] - 8s 20ms/step - loss: 2.3027 - accuracy: 0.0982 - val_loss: 2.3027 - val_accuracy: 0.1003\n",
            "Epoch 15/20\n",
            "375/375 [==============================] - 9s 25ms/step - loss: 2.3027 - accuracy: 0.1006 - val_loss: 2.3027 - val_accuracy: 0.0983\n",
            "Epoch 16/20\n",
            "375/375 [==============================] - 9s 23ms/step - loss: 2.3027 - accuracy: 0.0993 - val_loss: 2.3027 - val_accuracy: 0.1003\n",
            "Epoch 17/20\n",
            "375/375 [==============================] - 8s 20ms/step - loss: 2.3027 - accuracy: 0.0984 - val_loss: 2.3027 - val_accuracy: 0.0983\n",
            "Epoch 18/20\n",
            "375/375 [==============================] - 9s 23ms/step - loss: 2.3027 - accuracy: 0.0978 - val_loss: 2.3028 - val_accuracy: 0.0983\n",
            "Epoch 19/20\n",
            "375/375 [==============================] - 9s 23ms/step - loss: 2.3027 - accuracy: 0.1003 - val_loss: 2.3027 - val_accuracy: 0.0983\n",
            "Epoch 20/20\n",
            "375/375 [==============================] - 8s 21ms/step - loss: 2.3027 - accuracy: 0.0982 - val_loss: 2.3027 - val_accuracy: 0.0957\n"
          ]
        }
      ]
    },
    {
      "cell_type": "code",
      "source": [
        "test_accuracy=model4.evaluate(test_images,test_labels)\n",
        "print('Test Acc:',test_accuracy)"
      ],
      "metadata": {
        "colab": {
          "base_uri": "https://localhost:8080/"
        },
        "id": "vj86bZLTUMWZ",
        "outputId": "0cc648c1-d8f3-4dc9-9ecb-68cf39244ed0"
      },
      "execution_count": null,
      "outputs": [
        {
          "output_type": "stream",
          "name": "stdout",
          "text": [
            "313/313 [==============================] - 2s 5ms/step - loss: 2.3026 - accuracy: 0.1000\n",
            "Test Acc: [2.3026065826416016, 0.10000000149011612]\n"
          ]
        }
      ]
    },
    {
      "cell_type": "code",
      "source": [],
      "metadata": {
        "id": "d_JGV5TnTVCj"
      },
      "execution_count": null,
      "outputs": []
    }
  ]
}